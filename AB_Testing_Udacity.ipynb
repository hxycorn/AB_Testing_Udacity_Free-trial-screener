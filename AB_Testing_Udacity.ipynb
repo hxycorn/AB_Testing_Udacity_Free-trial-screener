{
 "cells": [
  {
   "cell_type": "code",
   "execution_count": 1,
   "id": "4f75e155",
   "metadata": {},
   "outputs": [],
   "source": [
    "import pandas as pd\n",
    "import numpy as np\n",
    "import matplotlib.pyplot as plt\n",
    "pd.set_option('display.max_colwidth', None)\n",
    "\n",
    "%matplotlib inline"
   ]
  },
  {
   "cell_type": "markdown",
   "id": "c98b36a6",
   "metadata": {},
   "source": [
    "## Reading Baseline Value CSV Files"
   ]
  },
  {
   "cell_type": "code",
   "execution_count": 2,
   "id": "39a55bb3",
   "metadata": {},
   "outputs": [
    {
     "data": {
      "text/html": [
       "<div>\n",
       "<style scoped>\n",
       "    .dataframe tbody tr th:only-of-type {\n",
       "        vertical-align: middle;\n",
       "    }\n",
       "\n",
       "    .dataframe tbody tr th {\n",
       "        vertical-align: top;\n",
       "    }\n",
       "\n",
       "    .dataframe thead th {\n",
       "        text-align: right;\n",
       "    }\n",
       "</style>\n",
       "<table border=\"1\" class=\"dataframe\">\n",
       "  <thead>\n",
       "    <tr style=\"text-align: right;\">\n",
       "      <th></th>\n",
       "      <th>metric</th>\n",
       "      <th>baseline_value</th>\n",
       "    </tr>\n",
       "  </thead>\n",
       "  <tbody>\n",
       "    <tr>\n",
       "      <th>0</th>\n",
       "      <td>Unique cookies to view course overview page per day:</td>\n",
       "      <td>40000.000000</td>\n",
       "    </tr>\n",
       "    <tr>\n",
       "      <th>1</th>\n",
       "      <td>Unique cookies to click \"Start free trial\" per day:</td>\n",
       "      <td>3200.000000</td>\n",
       "    </tr>\n",
       "    <tr>\n",
       "      <th>2</th>\n",
       "      <td>Enrollments per day:</td>\n",
       "      <td>660.000000</td>\n",
       "    </tr>\n",
       "    <tr>\n",
       "      <th>3</th>\n",
       "      <td>Click-through-probability on \"Start free trial\":</td>\n",
       "      <td>0.080000</td>\n",
       "    </tr>\n",
       "    <tr>\n",
       "      <th>4</th>\n",
       "      <td>Probability of enrolling, given click:</td>\n",
       "      <td>0.206250</td>\n",
       "    </tr>\n",
       "    <tr>\n",
       "      <th>5</th>\n",
       "      <td>Probability of payment, given enroll:</td>\n",
       "      <td>0.530000</td>\n",
       "    </tr>\n",
       "    <tr>\n",
       "      <th>6</th>\n",
       "      <td>Probability of payment, given click</td>\n",
       "      <td>0.109313</td>\n",
       "    </tr>\n",
       "  </tbody>\n",
       "</table>\n",
       "</div>"
      ],
      "text/plain": [
       "                                                 metric  baseline_value\n",
       "0  Unique cookies to view course overview page per day:    40000.000000\n",
       "1   Unique cookies to click \"Start free trial\" per day:     3200.000000\n",
       "2                                  Enrollments per day:      660.000000\n",
       "3      Click-through-probability on \"Start free trial\":        0.080000\n",
       "4                Probability of enrolling, given click:        0.206250\n",
       "5                 Probability of payment, given enroll:        0.530000\n",
       "6                   Probability of payment, given click        0.109313"
      ]
     },
     "execution_count": 2,
     "metadata": {},
     "output_type": "execute_result"
    }
   ],
   "source": [
    "df_baseline = pd.read_csv(\"data/Baseline_Values.csv\", names=['metric','baseline_value'])\n",
    "df_baseline"
   ]
  },
  {
   "cell_type": "code",
   "execution_count": 3,
   "id": "571e88ae",
   "metadata": {},
   "outputs": [
    {
     "data": {
      "text/html": [
       "<div>\n",
       "<style scoped>\n",
       "    .dataframe tbody tr th:only-of-type {\n",
       "        vertical-align: middle;\n",
       "    }\n",
       "\n",
       "    .dataframe tbody tr th {\n",
       "        vertical-align: top;\n",
       "    }\n",
       "\n",
       "    .dataframe thead th {\n",
       "        text-align: right;\n",
       "    }\n",
       "</style>\n",
       "<table border=\"1\" class=\"dataframe\">\n",
       "  <thead>\n",
       "    <tr style=\"text-align: right;\">\n",
       "      <th></th>\n",
       "      <th>metric</th>\n",
       "      <th>baseline_value</th>\n",
       "    </tr>\n",
       "  </thead>\n",
       "  <tbody>\n",
       "    <tr>\n",
       "      <th>0</th>\n",
       "      <td>unique cookies to view course overview page per day:</td>\n",
       "      <td>40000.000000</td>\n",
       "    </tr>\n",
       "    <tr>\n",
       "      <th>1</th>\n",
       "      <td>unique cookies to click \"start free trial\" per day:</td>\n",
       "      <td>3200.000000</td>\n",
       "    </tr>\n",
       "    <tr>\n",
       "      <th>2</th>\n",
       "      <td>enrollments per day:</td>\n",
       "      <td>660.000000</td>\n",
       "    </tr>\n",
       "    <tr>\n",
       "      <th>3</th>\n",
       "      <td>click-through-probability on \"start free trial\":</td>\n",
       "      <td>0.080000</td>\n",
       "    </tr>\n",
       "    <tr>\n",
       "      <th>4</th>\n",
       "      <td>probability of enrolling, given click:</td>\n",
       "      <td>0.206250</td>\n",
       "    </tr>\n",
       "    <tr>\n",
       "      <th>5</th>\n",
       "      <td>probability of payment, given enroll:</td>\n",
       "      <td>0.530000</td>\n",
       "    </tr>\n",
       "    <tr>\n",
       "      <th>6</th>\n",
       "      <td>probability of payment, given click</td>\n",
       "      <td>0.109313</td>\n",
       "    </tr>\n",
       "  </tbody>\n",
       "</table>\n",
       "</div>"
      ],
      "text/plain": [
       "                                                 metric  baseline_value\n",
       "0  unique cookies to view course overview page per day:    40000.000000\n",
       "1   unique cookies to click \"start free trial\" per day:     3200.000000\n",
       "2                                  enrollments per day:      660.000000\n",
       "3      click-through-probability on \"start free trial\":        0.080000\n",
       "4                probability of enrolling, given click:        0.206250\n",
       "5                 probability of payment, given enroll:        0.530000\n",
       "6                   probability of payment, given click        0.109313"
      ]
     },
     "execution_count": 3,
     "metadata": {},
     "output_type": "execute_result"
    }
   ],
   "source": [
    "df_baseline.metric = df_baseline.metric.map(lambda x: x.lower())\n",
    "df_baseline"
   ]
  },
  {
   "cell_type": "markdown",
   "id": "5dbfeb0d",
   "metadata": {},
   "source": [
    "Given the sample size of 5000 cookies visiting the course overview page. "
   ]
  },
  {
   "cell_type": "code",
   "execution_count": 4,
   "id": "05121372",
   "metadata": {},
   "outputs": [],
   "source": [
    "cookies_sample_size = 5000"
   ]
  },
  {
   "cell_type": "markdown",
   "id": "6129489b",
   "metadata": {},
   "source": [
    "## Calculating standard deviation of evaluation metric"
   ]
  },
  {
   "cell_type": "markdown",
   "id": "5bf6e6ab",
   "metadata": {},
   "source": [
    "**Gross conversion**: That is, number of user-ids to complete checkout and enroll in the free trial divided by number of unique cookies to click the \"Start free trial\" button. "
   ]
  },
  {
   "cell_type": "code",
   "execution_count": 5,
   "id": "85bbb977",
   "metadata": {},
   "outputs": [
    {
     "data": {
      "text/plain": [
       "0.0202"
      ]
     },
     "execution_count": 5,
     "metadata": {},
     "output_type": "execute_result"
    }
   ],
   "source": [
    "total_cookies_per_day = df_baseline.baseline_value[0]\n",
    "total_cookies_click_start_per_day = df_baseline.baseline_value[1]\n",
    "P_enroll_given_click = df_baseline.baseline_value[4]\n",
    "\n",
    "total_click_in_sample = (total_cookies_click_start_per_day/total_cookies_per_day)*cookies_sample_size\n",
    "\n",
    "Gross_conversion_std = np.sqrt(P_enroll_given_click*(1-P_enroll_given_click)/total_click_in_sample)\n",
    "Gross_conversion_std = round(Gross_conversion_std,4)\n",
    "Gross_conversion_std"
   ]
  },
  {
   "cell_type": "markdown",
   "id": "69be9110",
   "metadata": {},
   "source": [
    "**Retention**: That is, number of user-ids to remain enrolled past the 14-day boundary (and thus make at least one payment) divided by number of user-ids to complete checkout."
   ]
  },
  {
   "cell_type": "code",
   "execution_count": 6,
   "id": "6d65f384",
   "metadata": {},
   "outputs": [
    {
     "data": {
      "text/plain": [
       "0.0549"
      ]
     },
     "execution_count": 6,
     "metadata": {},
     "output_type": "execute_result"
    }
   ],
   "source": [
    "total_enrollments_per_day = df_baseline.baseline_value[2]\n",
    "P_payment_given_enroll = df_baseline.baseline_value[5]\n",
    "\n",
    "total_enrollments_in_sample = (total_enrollments_per_day/total_cookies_per_day)*cookies_sample_size\n",
    "\n",
    "Retention_std = np.sqrt(P_payment_given_enroll*(1-P_payment_given_enroll)/total_enrollments_in_sample)\n",
    "Retention_std = round(Retention_std, 4)\n",
    "Retention_std"
   ]
  },
  {
   "cell_type": "markdown",
   "id": "ba9ba1de",
   "metadata": {},
   "source": [
    "**Net conversion**: That is, number of user-ids to remain enrolled past the 14-day boundary (and thus make at least one payment) divided by the number of unique cookies to click the \"Start free trial\" button."
   ]
  },
  {
   "cell_type": "code",
   "execution_count": 7,
   "id": "410d72f3",
   "metadata": {},
   "outputs": [
    {
     "data": {
      "text/plain": [
       "0.0156"
      ]
     },
     "execution_count": 7,
     "metadata": {},
     "output_type": "execute_result"
    }
   ],
   "source": [
    "P_payment_given_click = df_baseline.baseline_value[6]\n",
    "\n",
    "Net_conversion_std = np.sqrt(P_payment_given_click*(1-P_payment_given_click)/total_click_in_sample)\n",
    "Net_conversion_std = round(Net_conversion_std, 4)\n",
    "Net_conversion_std"
   ]
  },
  {
   "cell_type": "markdown",
   "id": "6d19f34c",
   "metadata": {},
   "source": [
    "## Sizing"
   ]
  },
  {
   "cell_type": "markdown",
   "id": "b54017ea",
   "metadata": {},
   "source": [
    "### Number of Samples vs Power"
   ]
  },
  {
   "cell_type": "code",
   "execution_count": 8,
   "id": "81ca2abd",
   "metadata": {},
   "outputs": [
    {
     "data": {
      "text/plain": [
       "0.08"
      ]
     },
     "execution_count": 8,
     "metadata": {},
     "output_type": "execute_result"
    }
   ],
   "source": [
    "click_to_pageview_rate = total_cookies_click_start_per_day/total_cookies_per_day\n",
    "click_to_pageview_rate"
   ]
  },
  {
   "cell_type": "code",
   "execution_count": 9,
   "id": "771bf653",
   "metadata": {},
   "outputs": [
    {
     "data": {
      "text/plain": [
       "0.0165"
      ]
     },
     "execution_count": 9,
     "metadata": {},
     "output_type": "execute_result"
    }
   ],
   "source": [
    "enrollment_to_pageview_rate = total_enrollments_per_day/total_cookies_per_day\n",
    "enrollment_to_pageview_rate"
   ]
  },
  {
   "cell_type": "markdown",
   "id": "74d02ea2",
   "metadata": {},
   "source": [
    "## Reading Project Results CSV Files"
   ]
  },
  {
   "cell_type": "code",
   "execution_count": 10,
   "id": "15d4a5a0",
   "metadata": {},
   "outputs": [],
   "source": [
    "df_control = pd.read_csv(\"data/Project_Results_Control.csv\")\n",
    "df_experiment = pd.read_csv(\"data/Project_Results_Experiment.csv\")"
   ]
  },
  {
   "cell_type": "code",
   "execution_count": 11,
   "id": "2ccf6bfb",
   "metadata": {},
   "outputs": [
    {
     "data": {
      "text/html": [
       "<div>\n",
       "<style scoped>\n",
       "    .dataframe tbody tr th:only-of-type {\n",
       "        vertical-align: middle;\n",
       "    }\n",
       "\n",
       "    .dataframe tbody tr th {\n",
       "        vertical-align: top;\n",
       "    }\n",
       "\n",
       "    .dataframe thead th {\n",
       "        text-align: right;\n",
       "    }\n",
       "</style>\n",
       "<table border=\"1\" class=\"dataframe\">\n",
       "  <thead>\n",
       "    <tr style=\"text-align: right;\">\n",
       "      <th></th>\n",
       "      <th>Date</th>\n",
       "      <th>Pageviews</th>\n",
       "      <th>Clicks</th>\n",
       "      <th>Enrollments</th>\n",
       "      <th>Payments</th>\n",
       "    </tr>\n",
       "  </thead>\n",
       "  <tbody>\n",
       "    <tr>\n",
       "      <th>0</th>\n",
       "      <td>Sat, Oct 11</td>\n",
       "      <td>7723</td>\n",
       "      <td>687</td>\n",
       "      <td>134.0</td>\n",
       "      <td>70.0</td>\n",
       "    </tr>\n",
       "    <tr>\n",
       "      <th>1</th>\n",
       "      <td>Sun, Oct 12</td>\n",
       "      <td>9102</td>\n",
       "      <td>779</td>\n",
       "      <td>147.0</td>\n",
       "      <td>70.0</td>\n",
       "    </tr>\n",
       "    <tr>\n",
       "      <th>2</th>\n",
       "      <td>Mon, Oct 13</td>\n",
       "      <td>10511</td>\n",
       "      <td>909</td>\n",
       "      <td>167.0</td>\n",
       "      <td>95.0</td>\n",
       "    </tr>\n",
       "    <tr>\n",
       "      <th>3</th>\n",
       "      <td>Tue, Oct 14</td>\n",
       "      <td>9871</td>\n",
       "      <td>836</td>\n",
       "      <td>156.0</td>\n",
       "      <td>105.0</td>\n",
       "    </tr>\n",
       "    <tr>\n",
       "      <th>4</th>\n",
       "      <td>Wed, Oct 15</td>\n",
       "      <td>10014</td>\n",
       "      <td>837</td>\n",
       "      <td>163.0</td>\n",
       "      <td>64.0</td>\n",
       "    </tr>\n",
       "  </tbody>\n",
       "</table>\n",
       "</div>"
      ],
      "text/plain": [
       "          Date  Pageviews  Clicks  Enrollments  Payments\n",
       "0  Sat, Oct 11       7723     687        134.0      70.0\n",
       "1  Sun, Oct 12       9102     779        147.0      70.0\n",
       "2  Mon, Oct 13      10511     909        167.0      95.0\n",
       "3  Tue, Oct 14       9871     836        156.0     105.0\n",
       "4  Wed, Oct 15      10014     837        163.0      64.0"
      ]
     },
     "execution_count": 11,
     "metadata": {},
     "output_type": "execute_result"
    }
   ],
   "source": [
    "df_control.head()"
   ]
  },
  {
   "cell_type": "code",
   "execution_count": 12,
   "id": "beadeace",
   "metadata": {},
   "outputs": [
    {
     "data": {
      "text/html": [
       "<div>\n",
       "<style scoped>\n",
       "    .dataframe tbody tr th:only-of-type {\n",
       "        vertical-align: middle;\n",
       "    }\n",
       "\n",
       "    .dataframe tbody tr th {\n",
       "        vertical-align: top;\n",
       "    }\n",
       "\n",
       "    .dataframe thead th {\n",
       "        text-align: right;\n",
       "    }\n",
       "</style>\n",
       "<table border=\"1\" class=\"dataframe\">\n",
       "  <thead>\n",
       "    <tr style=\"text-align: right;\">\n",
       "      <th></th>\n",
       "      <th>Date</th>\n",
       "      <th>Pageviews</th>\n",
       "      <th>Clicks</th>\n",
       "      <th>Enrollments</th>\n",
       "      <th>Payments</th>\n",
       "    </tr>\n",
       "  </thead>\n",
       "  <tbody>\n",
       "    <tr>\n",
       "      <th>0</th>\n",
       "      <td>Sat, Oct 11</td>\n",
       "      <td>7716</td>\n",
       "      <td>686</td>\n",
       "      <td>105.0</td>\n",
       "      <td>34.0</td>\n",
       "    </tr>\n",
       "    <tr>\n",
       "      <th>1</th>\n",
       "      <td>Sun, Oct 12</td>\n",
       "      <td>9288</td>\n",
       "      <td>785</td>\n",
       "      <td>116.0</td>\n",
       "      <td>91.0</td>\n",
       "    </tr>\n",
       "    <tr>\n",
       "      <th>2</th>\n",
       "      <td>Mon, Oct 13</td>\n",
       "      <td>10480</td>\n",
       "      <td>884</td>\n",
       "      <td>145.0</td>\n",
       "      <td>79.0</td>\n",
       "    </tr>\n",
       "    <tr>\n",
       "      <th>3</th>\n",
       "      <td>Tue, Oct 14</td>\n",
       "      <td>9867</td>\n",
       "      <td>827</td>\n",
       "      <td>138.0</td>\n",
       "      <td>92.0</td>\n",
       "    </tr>\n",
       "    <tr>\n",
       "      <th>4</th>\n",
       "      <td>Wed, Oct 15</td>\n",
       "      <td>9793</td>\n",
       "      <td>832</td>\n",
       "      <td>140.0</td>\n",
       "      <td>94.0</td>\n",
       "    </tr>\n",
       "  </tbody>\n",
       "</table>\n",
       "</div>"
      ],
      "text/plain": [
       "          Date  Pageviews  Clicks  Enrollments  Payments\n",
       "0  Sat, Oct 11       7716     686        105.0      34.0\n",
       "1  Sun, Oct 12       9288     785        116.0      91.0\n",
       "2  Mon, Oct 13      10480     884        145.0      79.0\n",
       "3  Tue, Oct 14       9867     827        138.0      92.0\n",
       "4  Wed, Oct 15       9793     832        140.0      94.0"
      ]
     },
     "execution_count": 12,
     "metadata": {},
     "output_type": "execute_result"
    }
   ],
   "source": [
    "df_experiment.head()"
   ]
  },
  {
   "cell_type": "markdown",
   "id": "e0d8fd81",
   "metadata": {},
   "source": [
    "### Sanity Check"
   ]
  },
  {
   "cell_type": "code",
   "execution_count": 13,
   "id": "beb0fefe",
   "metadata": {},
   "outputs": [
    {
     "data": {
      "text/plain": [
       "pageviews      345543.0\n",
       "clicks          28378.0\n",
       "enrollments      3785.0\n",
       "payments         2033.0\n",
       "dtype: float64"
      ]
     },
     "execution_count": 13,
     "metadata": {},
     "output_type": "execute_result"
    }
   ],
   "source": [
    "control_summary = pd.Series([df_control.Pageviews.sum(), df_control.Clicks.sum(), df_control.Enrollments.sum(), \n",
    "                     df_control.Payments.sum()], index=[\"pageviews\", \"clicks\", \"enrollments\", \"payments\"])\n",
    "control_summary"
   ]
  },
  {
   "cell_type": "code",
   "execution_count": 14,
   "id": "bf4bb922",
   "metadata": {},
   "outputs": [
    {
     "data": {
      "text/plain": [
       "pageviews      344660.0\n",
       "clicks          28325.0\n",
       "enrollments      3423.0\n",
       "payments         1945.0\n",
       "dtype: float64"
      ]
     },
     "execution_count": 14,
     "metadata": {},
     "output_type": "execute_result"
    }
   ],
   "source": [
    "exp_summary = pd.Series([df_experiment.Pageviews.sum(), df_experiment.Clicks.sum(), df_experiment.Enrollments.sum(), \n",
    "                     df_experiment.Payments.sum()], index=[\"pageviews\", \"clicks\", \"enrollments\", \"payments\"])\n",
    "exp_summary"
   ]
  },
  {
   "cell_type": "code",
   "execution_count": 15,
   "id": "36522812",
   "metadata": {},
   "outputs": [
    {
     "data": {
      "text/html": [
       "<div>\n",
       "<style scoped>\n",
       "    .dataframe tbody tr th:only-of-type {\n",
       "        vertical-align: middle;\n",
       "    }\n",
       "\n",
       "    .dataframe tbody tr th {\n",
       "        vertical-align: top;\n",
       "    }\n",
       "\n",
       "    .dataframe thead th {\n",
       "        text-align: right;\n",
       "    }\n",
       "</style>\n",
       "<table border=\"1\" class=\"dataframe\">\n",
       "  <thead>\n",
       "    <tr style=\"text-align: right;\">\n",
       "      <th></th>\n",
       "      <th>control</th>\n",
       "      <th>experiment</th>\n",
       "    </tr>\n",
       "  </thead>\n",
       "  <tbody>\n",
       "    <tr>\n",
       "      <th>pageviews</th>\n",
       "      <td>345543.0</td>\n",
       "      <td>344660.0</td>\n",
       "    </tr>\n",
       "    <tr>\n",
       "      <th>clicks</th>\n",
       "      <td>28378.0</td>\n",
       "      <td>28325.0</td>\n",
       "    </tr>\n",
       "    <tr>\n",
       "      <th>enrollments</th>\n",
       "      <td>3785.0</td>\n",
       "      <td>3423.0</td>\n",
       "    </tr>\n",
       "    <tr>\n",
       "      <th>payments</th>\n",
       "      <td>2033.0</td>\n",
       "      <td>1945.0</td>\n",
       "    </tr>\n",
       "  </tbody>\n",
       "</table>\n",
       "</div>"
      ],
      "text/plain": [
       "              control  experiment\n",
       "pageviews    345543.0    344660.0\n",
       "clicks        28378.0     28325.0\n",
       "enrollments    3785.0      3423.0\n",
       "payments       2033.0      1945.0"
      ]
     },
     "execution_count": 15,
     "metadata": {},
     "output_type": "execute_result"
    }
   ],
   "source": [
    "summary = {\"control\":control_summary, \"experiment\":exp_summary}\n",
    "df_results =  pd.DataFrame(summary)\n",
    "df_results"
   ]
  },
  {
   "cell_type": "markdown",
   "id": "40e0628a",
   "metadata": {},
   "source": [
    "For each metric, given the 95% confidence interval for the value that expect to observe. The corresponding z-score is 1.96. "
   ]
  },
  {
   "cell_type": "code",
   "execution_count": 16,
   "id": "a79383bd",
   "metadata": {},
   "outputs": [
    {
     "data": {
      "text/html": [
       "<div>\n",
       "<style scoped>\n",
       "    .dataframe tbody tr th:only-of-type {\n",
       "        vertical-align: middle;\n",
       "    }\n",
       "\n",
       "    .dataframe tbody tr th {\n",
       "        vertical-align: top;\n",
       "    }\n",
       "\n",
       "    .dataframe thead th {\n",
       "        text-align: right;\n",
       "    }\n",
       "</style>\n",
       "<table border=\"1\" class=\"dataframe\">\n",
       "  <thead>\n",
       "    <tr style=\"text-align: right;\">\n",
       "      <th></th>\n",
       "      <th>control</th>\n",
       "      <th>experiment</th>\n",
       "      <th>total</th>\n",
       "      <th>P</th>\n",
       "      <th>std</th>\n",
       "      <th>margin_err</th>\n",
       "      <th>lower_bound</th>\n",
       "      <th>higher_bound</th>\n",
       "      <th>obs_con</th>\n",
       "      <th>con_pass_sanity</th>\n",
       "      <th>obs_exp</th>\n",
       "      <th>exp_pass_sanity</th>\n",
       "    </tr>\n",
       "  </thead>\n",
       "  <tbody>\n",
       "    <tr>\n",
       "      <th>pageviews</th>\n",
       "      <td>345543.0</td>\n",
       "      <td>344660.0</td>\n",
       "      <td>690203.0</td>\n",
       "      <td>0.5</td>\n",
       "      <td>0.000602</td>\n",
       "      <td>0.001180</td>\n",
       "      <td>0.498820</td>\n",
       "      <td>0.501180</td>\n",
       "      <td>0.500640</td>\n",
       "      <td>True</td>\n",
       "      <td>0.499360</td>\n",
       "      <td>True</td>\n",
       "    </tr>\n",
       "    <tr>\n",
       "      <th>clicks</th>\n",
       "      <td>28378.0</td>\n",
       "      <td>28325.0</td>\n",
       "      <td>56703.0</td>\n",
       "      <td>0.5</td>\n",
       "      <td>0.002100</td>\n",
       "      <td>0.004116</td>\n",
       "      <td>0.495884</td>\n",
       "      <td>0.504116</td>\n",
       "      <td>0.500467</td>\n",
       "      <td>True</td>\n",
       "      <td>0.499533</td>\n",
       "      <td>True</td>\n",
       "    </tr>\n",
       "    <tr>\n",
       "      <th>enrollments</th>\n",
       "      <td>3785.0</td>\n",
       "      <td>3423.0</td>\n",
       "      <td>7208.0</td>\n",
       "      <td>0.5</td>\n",
       "      <td>0.005889</td>\n",
       "      <td>0.011543</td>\n",
       "      <td>0.488457</td>\n",
       "      <td>0.511543</td>\n",
       "      <td>0.525111</td>\n",
       "      <td>False</td>\n",
       "      <td>0.474889</td>\n",
       "      <td>False</td>\n",
       "    </tr>\n",
       "    <tr>\n",
       "      <th>payments</th>\n",
       "      <td>2033.0</td>\n",
       "      <td>1945.0</td>\n",
       "      <td>3978.0</td>\n",
       "      <td>0.5</td>\n",
       "      <td>0.007928</td>\n",
       "      <td>0.015538</td>\n",
       "      <td>0.484462</td>\n",
       "      <td>0.515538</td>\n",
       "      <td>0.511061</td>\n",
       "      <td>True</td>\n",
       "      <td>0.488939</td>\n",
       "      <td>True</td>\n",
       "    </tr>\n",
       "  </tbody>\n",
       "</table>\n",
       "</div>"
      ],
      "text/plain": [
       "              control  experiment     total    P       std  margin_err  \\\n",
       "pageviews    345543.0    344660.0  690203.0  0.5  0.000602    0.001180   \n",
       "clicks        28378.0     28325.0   56703.0  0.5  0.002100    0.004116   \n",
       "enrollments    3785.0      3423.0    7208.0  0.5  0.005889    0.011543   \n",
       "payments       2033.0      1945.0    3978.0  0.5  0.007928    0.015538   \n",
       "\n",
       "             lower_bound  higher_bound   obs_con  con_pass_sanity   obs_exp  \\\n",
       "pageviews       0.498820      0.501180  0.500640             True  0.499360   \n",
       "clicks          0.495884      0.504116  0.500467             True  0.499533   \n",
       "enrollments     0.488457      0.511543  0.525111            False  0.474889   \n",
       "payments        0.484462      0.515538  0.511061             True  0.488939   \n",
       "\n",
       "             exp_pass_sanity  \n",
       "pageviews               True  \n",
       "clicks                  True  \n",
       "enrollments            False  \n",
       "payments                True  "
      ]
     },
     "execution_count": 16,
     "metadata": {},
     "output_type": "execute_result"
    }
   ],
   "source": [
    "df_results['total'] = df_results.control + df_results.experiment\n",
    "df_results['P'] = 0.5\n",
    "df_results['std'] = np.sqrt(df_results.P*(1-df_results.P)/(df_results.total))\n",
    "df_results['margin_err'] = df_results['std']*1.96\n",
    "df_results['lower_bound'] = df_results['P'] - df_results['margin_err']\n",
    "df_results['higher_bound'] = df_results['P'] + df_results['margin_err']\n",
    "df_results['obs_con'] = df_results.control/df_results.total\n",
    "df_results['con_pass_sanity'] = df_results.apply(lambda x: x.obs_con>x.lower_bound and x.obs_con<x.higher_bound, axis=1)\n",
    "df_results['obs_exp'] = df_results.experiment/df_results.total\n",
    "df_results['exp_pass_sanity'] = df_results.apply(lambda x: x.obs_exp>x.lower_bound and x.obs_exp<x.higher_bound, axis=1)\n",
    "\n",
    "df_results "
   ]
  },
  {
   "cell_type": "markdown",
   "id": "3b9fc2aa",
   "metadata": {},
   "source": [
    "**Click-through-probability** (clicks/pageviews) Sanity Check"
   ]
  },
  {
   "cell_type": "code",
   "execution_count": 17,
   "id": "e6c91e35",
   "metadata": {
    "scrolled": true
   },
   "outputs": [
    {
     "name": "stdout",
     "output_type": "stream",
     "text": [
      "0.08212581357457682 0.08218244066616376 0.08121035975252971 0.08304126739662393\n",
      "True\n"
     ]
    }
   ],
   "source": [
    "clicks_con = df_results['control']['clicks']\n",
    "clicks_exp = df_results['experiment']['clicks']\n",
    "pageviews_con = df_results['control']['pageviews']\n",
    "pageviews_exp = df_results['experiment']['pageviews']\n",
    "\n",
    "#Click-through-probability (CTP)\n",
    "CTP_con = clicks_con/pageviews_con\n",
    "CTP_exp = clicks_exp/pageviews_exp\n",
    "\n",
    "#Standard Error\n",
    "CTP_SE = np.sqrt(CTP_con*(1-CTP_con)/pageviews_con)\n",
    "\n",
    "#Margin of error for 95% confidence interval\n",
    "z = 1.96\n",
    "CTP_ME = CTP_SE*z\n",
    "\n",
    "#CI\n",
    "lower_bound = CTP_con - CTP_ME\n",
    "higher_bound = CTP_con + CTP_ME\n",
    "\n",
    "print(CTP_con, CTP_exp, lower_bound, higher_bound)\n",
    "\n",
    "print(CTP_exp>lower_bound and CTP_exp<higher_bound)"
   ]
  },
  {
   "cell_type": "markdown",
   "id": "599315ec",
   "metadata": {},
   "source": [
    "## Characteristics of the datasets"
   ]
  },
  {
   "cell_type": "code",
   "execution_count": 18,
   "id": "a9d9591e",
   "metadata": {},
   "outputs": [
    {
     "data": {
      "text/plain": [
       "(37, 5)"
      ]
     },
     "execution_count": 18,
     "metadata": {},
     "output_type": "execute_result"
    }
   ],
   "source": [
    "df_control.shape"
   ]
  },
  {
   "cell_type": "markdown",
   "id": "7dbea484",
   "metadata": {},
   "source": [
    "**Missing Data**"
   ]
  },
  {
   "cell_type": "code",
   "execution_count": 19,
   "id": "1a557b96",
   "metadata": {},
   "outputs": [
    {
     "data": {
      "text/plain": [
       "Date            0\n",
       "Pageviews       0\n",
       "Clicks          0\n",
       "Enrollments    14\n",
       "Payments       14\n",
       "dtype: int64"
      ]
     },
     "execution_count": 19,
     "metadata": {},
     "output_type": "execute_result"
    }
   ],
   "source": [
    "df_control.isnull().sum()"
   ]
  },
  {
   "cell_type": "code",
   "execution_count": 20,
   "id": "d98c485c",
   "metadata": {},
   "outputs": [
    {
     "data": {
      "text/plain": [
       "Date            0\n",
       "Pageviews       0\n",
       "Clicks          0\n",
       "Enrollments    14\n",
       "Payments       14\n",
       "dtype: int64"
      ]
     },
     "execution_count": 20,
     "metadata": {},
     "output_type": "execute_result"
    }
   ],
   "source": [
    "df_experiment.isnull().sum()"
   ]
  },
  {
   "cell_type": "markdown",
   "id": "db7bf8fd",
   "metadata": {},
   "source": [
    "**Drop Nulls**"
   ]
  },
  {
   "cell_type": "code",
   "execution_count": 21,
   "id": "67e011a4",
   "metadata": {},
   "outputs": [
    {
     "data": {
      "text/plain": [
       "Date           False\n",
       "Pageviews      False\n",
       "Clicks         False\n",
       "Enrollments    False\n",
       "Payments       False\n",
       "dtype: bool"
      ]
     },
     "execution_count": 21,
     "metadata": {},
     "output_type": "execute_result"
    }
   ],
   "source": [
    "df_control.dropna(inplace=True)\n",
    "df_control.isnull().any()"
   ]
  },
  {
   "cell_type": "code",
   "execution_count": 22,
   "id": "d49b1572",
   "metadata": {},
   "outputs": [
    {
     "data": {
      "text/plain": [
       "Date           False\n",
       "Pageviews      False\n",
       "Clicks         False\n",
       "Enrollments    False\n",
       "Payments       False\n",
       "dtype: bool"
      ]
     },
     "execution_count": 22,
     "metadata": {},
     "output_type": "execute_result"
    }
   ],
   "source": [
    "df_experiment.dropna(inplace=True)\n",
    "df_experiment.isnull().any()"
   ]
  },
  {
   "cell_type": "markdown",
   "id": "2d704d78",
   "metadata": {},
   "source": [
    "**Edit Data Frame**"
   ]
  },
  {
   "cell_type": "code",
   "execution_count": 25,
   "id": "644f6e7a",
   "metadata": {},
   "outputs": [],
   "source": [
    "results_NoNull = {\"control\": pd.Series([df_control.Pageviews.sum(), df_control.Clicks.sum(), df_control.Enrollments.sum(), \n",
    "                     df_control.Payments.sum()], index=['pageviews','clicks','enrollments','payments']),\n",
    "                  \"experiment\": pd.Series([df_experiment.Pageviews.sum(), df_experiment.Clicks.sum(), df_experiment.Enrollments.sum(), \n",
    "                     df_experiment.Payments.sum()], index=['pageviews','clicks','enrollments','payments'])}"
   ]
  },
  {
   "cell_type": "code",
   "execution_count": 26,
   "id": "4b47c913",
   "metadata": {},
   "outputs": [
    {
     "data": {
      "text/html": [
       "<div>\n",
       "<style scoped>\n",
       "    .dataframe tbody tr th:only-of-type {\n",
       "        vertical-align: middle;\n",
       "    }\n",
       "\n",
       "    .dataframe tbody tr th {\n",
       "        vertical-align: top;\n",
       "    }\n",
       "\n",
       "    .dataframe thead th {\n",
       "        text-align: right;\n",
       "    }\n",
       "</style>\n",
       "<table border=\"1\" class=\"dataframe\">\n",
       "  <thead>\n",
       "    <tr style=\"text-align: right;\">\n",
       "      <th></th>\n",
       "      <th>control</th>\n",
       "      <th>experiment</th>\n",
       "    </tr>\n",
       "  </thead>\n",
       "  <tbody>\n",
       "    <tr>\n",
       "      <th>pageviews</th>\n",
       "      <td>212163.0</td>\n",
       "      <td>211362.0</td>\n",
       "    </tr>\n",
       "    <tr>\n",
       "      <th>clicks</th>\n",
       "      <td>17293.0</td>\n",
       "      <td>17260.0</td>\n",
       "    </tr>\n",
       "    <tr>\n",
       "      <th>enrollments</th>\n",
       "      <td>3785.0</td>\n",
       "      <td>3423.0</td>\n",
       "    </tr>\n",
       "    <tr>\n",
       "      <th>payments</th>\n",
       "      <td>2033.0</td>\n",
       "      <td>1945.0</td>\n",
       "    </tr>\n",
       "  </tbody>\n",
       "</table>\n",
       "</div>"
      ],
      "text/plain": [
       "              control  experiment\n",
       "pageviews    212163.0    211362.0\n",
       "clicks        17293.0     17260.0\n",
       "enrollments    3785.0      3423.0\n",
       "payments       2033.0      1945.0"
      ]
     },
     "execution_count": 26,
     "metadata": {},
     "output_type": "execute_result"
    }
   ],
   "source": [
    "df_results_e = pd.DataFrame(results_NoNull)\n",
    "df_results_e"
   ]
  },
  {
   "cell_type": "code",
   "execution_count": 27,
   "id": "8d422193",
   "metadata": {},
   "outputs": [
    {
     "data": {
      "text/html": [
       "<div>\n",
       "<style scoped>\n",
       "    .dataframe tbody tr th:only-of-type {\n",
       "        vertical-align: middle;\n",
       "    }\n",
       "\n",
       "    .dataframe tbody tr th {\n",
       "        vertical-align: top;\n",
       "    }\n",
       "\n",
       "    .dataframe thead th {\n",
       "        text-align: right;\n",
       "    }\n",
       "</style>\n",
       "<table border=\"1\" class=\"dataframe\">\n",
       "  <thead>\n",
       "    <tr style=\"text-align: right;\">\n",
       "      <th></th>\n",
       "      <th>control</th>\n",
       "      <th>experiment</th>\n",
       "      <th>total</th>\n",
       "    </tr>\n",
       "  </thead>\n",
       "  <tbody>\n",
       "    <tr>\n",
       "      <th>pageviews</th>\n",
       "      <td>212163.0</td>\n",
       "      <td>211362.0</td>\n",
       "      <td>423525.0</td>\n",
       "    </tr>\n",
       "    <tr>\n",
       "      <th>clicks</th>\n",
       "      <td>17293.0</td>\n",
       "      <td>17260.0</td>\n",
       "      <td>34553.0</td>\n",
       "    </tr>\n",
       "    <tr>\n",
       "      <th>enrollments</th>\n",
       "      <td>3785.0</td>\n",
       "      <td>3423.0</td>\n",
       "      <td>7208.0</td>\n",
       "    </tr>\n",
       "    <tr>\n",
       "      <th>payments</th>\n",
       "      <td>2033.0</td>\n",
       "      <td>1945.0</td>\n",
       "      <td>3978.0</td>\n",
       "    </tr>\n",
       "  </tbody>\n",
       "</table>\n",
       "</div>"
      ],
      "text/plain": [
       "              control  experiment     total\n",
       "pageviews    212163.0    211362.0  423525.0\n",
       "clicks        17293.0     17260.0   34553.0\n",
       "enrollments    3785.0      3423.0    7208.0\n",
       "payments       2033.0      1945.0    3978.0"
      ]
     },
     "execution_count": 27,
     "metadata": {},
     "output_type": "execute_result"
    }
   ],
   "source": [
    "df_results_e['total'] = df_results_e['control'] + df_results_e['experiment']\n",
    "df_results_e"
   ]
  },
  {
   "cell_type": "markdown",
   "id": "6188b90b",
   "metadata": {},
   "source": [
    "### Evaluation Metrics Analysis"
   ]
  },
  {
   "cell_type": "code",
   "execution_count": 30,
   "id": "ed297b19",
   "metadata": {},
   "outputs": [],
   "source": [
    "# control group\n",
    "clicks_con = df_results_e['control']['clicks']\n",
    "enrollments_con = df_results_e['control']['enrollments']\n",
    "payments_con = df_results_e['control']['payments']\n",
    "\n",
    "grossConversion_con = enrollments_con/clicks_con\n",
    "netConversion_con = payments_con/clicks_con\n",
    "\n",
    "# experiment group\n",
    "clicks_exp = df_results_e['experiment']['clicks']\n",
    "enrollments_exp = df_results_e['experiment']['enrollments']\n",
    "payments_exp = df_results_e['experiment']['payments']\n",
    "\n",
    "grossConversion_exp = enrollments_exp/clicks_exp\n",
    "netConversion_exp = payments_exp/clicks_exp\n",
    "\n",
    "# Mean\n",
    "clicks_tot = df_results_e['total']['clicks']\n",
    "enrollments_tot = df_results_e['total']['enrollments']\n",
    "payments_tot = df_results_e['total']['payments']\n",
    "\n",
    "grossConversion = enrollments_tot/clicks_tot\n",
    "netConversion = payments_tot/clicks_tot"
   ]
  },
  {
   "cell_type": "code",
   "execution_count": 34,
   "id": "8247b134",
   "metadata": {},
   "outputs": [
    {
     "data": {
      "text/html": [
       "<div>\n",
       "<style scoped>\n",
       "    .dataframe tbody tr th:only-of-type {\n",
       "        vertical-align: middle;\n",
       "    }\n",
       "\n",
       "    .dataframe tbody tr th {\n",
       "        vertical-align: top;\n",
       "    }\n",
       "\n",
       "    .dataframe thead th {\n",
       "        text-align: right;\n",
       "    }\n",
       "</style>\n",
       "<table border=\"1\" class=\"dataframe\">\n",
       "  <thead>\n",
       "    <tr style=\"text-align: right;\">\n",
       "      <th></th>\n",
       "      <th>control</th>\n",
       "      <th>experiment</th>\n",
       "      <th>mean</th>\n",
       "    </tr>\n",
       "  </thead>\n",
       "  <tbody>\n",
       "    <tr>\n",
       "      <th>Gross Conversion</th>\n",
       "      <td>0.218875</td>\n",
       "      <td>0.198320</td>\n",
       "      <td>0.208607</td>\n",
       "    </tr>\n",
       "    <tr>\n",
       "      <th>Net Conversion</th>\n",
       "      <td>0.117562</td>\n",
       "      <td>0.112688</td>\n",
       "      <td>0.115127</td>\n",
       "    </tr>\n",
       "  </tbody>\n",
       "</table>\n",
       "</div>"
      ],
      "text/plain": [
       "                   control  experiment      mean\n",
       "Gross Conversion  0.218875    0.198320  0.208607\n",
       "Net Conversion    0.117562    0.112688  0.115127"
      ]
     },
     "execution_count": 34,
     "metadata": {},
     "output_type": "execute_result"
    }
   ],
   "source": [
    "pd.DataFrame([[grossConversion_con,grossConversion_exp,grossConversion], [netConversion_con,netConversion_exp,netConversion]],\n",
    "            columns = ['control','experiment','mean'],index=['Gross Conversion','Net Conversion'])"
   ]
  },
  {
   "cell_type": "code",
   "execution_count": 37,
   "id": "3a1d0570",
   "metadata": {},
   "outputs": [],
   "source": [
    "def stat_cal(p_hat, N_con, N_exp, z_score, obs_diff):\n",
    "    std_err = np.sqrt(p_hat*(1-p_hat)*(1/N_con+1/N_exp))\n",
    "    margin_err = std_err*z_score\n",
    "    lower_bound = obs_diff - margin_err\n",
    "    higher_bound = obs_diff + margin_err\n",
    "    return std_err, margin_err, lower_bound, higher_bound"
   ]
  },
  {
   "cell_type": "code",
   "execution_count": 42,
   "id": "9d6cab1f",
   "metadata": {},
   "outputs": [
    {
     "data": {
      "text/plain": [
       "(-0.020554874580361565, -0.0048737226745441675)"
      ]
     },
     "execution_count": 42,
     "metadata": {},
     "output_type": "execute_result"
    }
   ],
   "source": [
    "grossConversion_diff = grossConversion_exp - grossConversion_con\n",
    "netConversion_diff = netConversion_exp - netConversion_con\n",
    "grossConversion_diff, netConversion_diff"
   ]
  },
  {
   "cell_type": "code",
   "execution_count": 40,
   "id": "8e36c921",
   "metadata": {},
   "outputs": [],
   "source": [
    "gross_se, gross_me, gross_CI_l, gross_CI_h = stat_cal(grossConversion, clicks_con, clicks_exp, 1.96, grossConversion_diff)\n",
    "\n",
    "net_se, net_me, net_CI_l, net_CI_h = stat_cal(netConversion, clicks_con, clicks_exp, 1.96, netConversion_diff)"
   ]
  },
  {
   "cell_type": "code",
   "execution_count": 41,
   "id": "499082e3",
   "metadata": {},
   "outputs": [
    {
     "data": {
      "text/html": [
       "<div>\n",
       "<style scoped>\n",
       "    .dataframe tbody tr th:only-of-type {\n",
       "        vertical-align: middle;\n",
       "    }\n",
       "\n",
       "    .dataframe tbody tr th {\n",
       "        vertical-align: top;\n",
       "    }\n",
       "\n",
       "    .dataframe thead th {\n",
       "        text-align: right;\n",
       "    }\n",
       "</style>\n",
       "<table border=\"1\" class=\"dataframe\">\n",
       "  <thead>\n",
       "    <tr style=\"text-align: right;\">\n",
       "      <th></th>\n",
       "      <th>SE</th>\n",
       "      <th>ME</th>\n",
       "      <th>CI_lower</th>\n",
       "      <th>CI_higher</th>\n",
       "    </tr>\n",
       "  </thead>\n",
       "  <tbody>\n",
       "    <tr>\n",
       "      <th>Gross Conversion</th>\n",
       "      <td>0.004372</td>\n",
       "      <td>0.008568</td>\n",
       "      <td>-0.029123</td>\n",
       "      <td>-0.011986</td>\n",
       "    </tr>\n",
       "    <tr>\n",
       "      <th>Net Conversion</th>\n",
       "      <td>0.003434</td>\n",
       "      <td>0.006731</td>\n",
       "      <td>-0.011605</td>\n",
       "      <td>0.001857</td>\n",
       "    </tr>\n",
       "  </tbody>\n",
       "</table>\n",
       "</div>"
      ],
      "text/plain": [
       "                        SE        ME  CI_lower  CI_higher\n",
       "Gross Conversion  0.004372  0.008568 -0.029123  -0.011986\n",
       "Net Conversion    0.003434  0.006731 -0.011605   0.001857"
      ]
     },
     "execution_count": 41,
     "metadata": {},
     "output_type": "execute_result"
    }
   ],
   "source": [
    "pd.DataFrame([[gross_se, gross_me, gross_CI_l, gross_CI_h],[net_se, net_me, net_CI_l, net_CI_h]], \n",
    "             columns = ['SE','ME','CI_lower','CI_higher'], index = ['Gross Conversion','Net Conversion'])"
   ]
  }
 ],
 "metadata": {
  "kernelspec": {
   "display_name": "Python 3 (ipykernel)",
   "language": "python",
   "name": "python3"
  },
  "language_info": {
   "codemirror_mode": {
    "name": "ipython",
    "version": 3
   },
   "file_extension": ".py",
   "mimetype": "text/x-python",
   "name": "python",
   "nbconvert_exporter": "python",
   "pygments_lexer": "ipython3",
   "version": "3.9.12"
  }
 },
 "nbformat": 4,
 "nbformat_minor": 5
}
